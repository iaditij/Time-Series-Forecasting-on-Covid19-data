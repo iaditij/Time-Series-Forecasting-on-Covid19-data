{
 "cells": [
  {
   "cell_type": "markdown",
   "metadata": {},
   "source": [
    "# Introduction"
   ]
  },
  {
   "cell_type": "markdown",
   "metadata": {},
   "source": [
    "Coronavirus disease (COVID-19) is an infectious disease caused by a newly discovered coronavirus.\n",
    "\n",
    "Most people infected with the COVID-19 virus will experience mild to moderate respiratory illness and recover without requiring special treatment. Older people, and those with underlying medical problems like cardiovascular disease, diabetes, chronic respiratory disease, and cancer are more likely to develop serious illness.\n",
    "\n",
    "The best way to prevent and slow down transmission is be well informed about the COVID-19 virus, the disease it causes and how it spreads. Protect yourself and others from infection by washing your hands or using an alcohol based rub frequently and not touching your face.\n",
    "\n",
    "The COVID-19 virus spreads primarily through droplets of saliva or discharge from the nose when an infected person coughs or sneezes, so it’s important that you also practice respiratory etiquette (for example, by coughing into a flexed elbow).\n",
    "\n",
    "At this time, there are no specific vaccines or treatments for COVID-19. However, there are many ongoing clinical trials evaluating potential treatments. WHO will continue to provide updated information as soon as clinical findings become available.\n",
    "\n",
    "Stay informed:\n",
    "\n",
    "Protect yourself: advice for the public Myth busters Questions and answers Situation reports All information on the COVID-19 outbreak"
   ]
  },
  {
   "cell_type": "markdown",
   "metadata": {},
   "source": [
    "# Importing Necessary Packages"
   ]
  },
  {
   "cell_type": "code",
   "execution_count": 1,
   "metadata": {
    "_cell_guid": "79c7e3d0-c299-4dcb-8224-4455121ee9b0",
    "_uuid": "d629ff2d2480ee46fbb7e2d37f6b5fab8052498a"
   },
   "outputs": [],
   "source": [
    "import pandas as pd\n",
    "import numpy as np\n",
    "import itertools\n",
    "import seaborn as sns\n",
    "import matplotlib.pyplot as plt\n",
    "%matplotlib inline\n",
    "import plotly.express as px\n",
    "import statsmodels.api as sm\n",
    "from statsmodels.tsa.stattools import adfuller, acf, pacf,arma_order_select_ic\n",
    "from statsmodels.graphics.tsaplots import plot_acf, plot_pacf\n",
    "from statsmodels.tsa.arima_model import ARIMA\n",
    "import warnings\n",
    "warnings.simplefilter('ignore')"
   ]
  },
  {
   "cell_type": "code",
   "execution_count": 2,
   "metadata": {},
   "outputs": [],
   "source": [
    "df=pd.read_csv(r\"us-counties.csv\")"
   ]
  },
  {
   "cell_type": "code",
   "execution_count": 3,
   "metadata": {},
   "outputs": [
    {
     "data": {
      "text/html": [
       "<div>\n",
       "<style scoped>\n",
       "    .dataframe tbody tr th:only-of-type {\n",
       "        vertical-align: middle;\n",
       "    }\n",
       "\n",
       "    .dataframe tbody tr th {\n",
       "        vertical-align: top;\n",
       "    }\n",
       "\n",
       "    .dataframe thead th {\n",
       "        text-align: right;\n",
       "    }\n",
       "</style>\n",
       "<table border=\"1\" class=\"dataframe\">\n",
       "  <thead>\n",
       "    <tr style=\"text-align: right;\">\n",
       "      <th></th>\n",
       "      <th>date</th>\n",
       "      <th>county</th>\n",
       "      <th>state</th>\n",
       "      <th>fips</th>\n",
       "      <th>cases</th>\n",
       "      <th>deaths</th>\n",
       "    </tr>\n",
       "  </thead>\n",
       "  <tbody>\n",
       "    <tr>\n",
       "      <th>0</th>\n",
       "      <td>2020-01-21</td>\n",
       "      <td>Snohomish</td>\n",
       "      <td>Washington</td>\n",
       "      <td>53061.0</td>\n",
       "      <td>1</td>\n",
       "      <td>0</td>\n",
       "    </tr>\n",
       "    <tr>\n",
       "      <th>1</th>\n",
       "      <td>2020-01-22</td>\n",
       "      <td>Snohomish</td>\n",
       "      <td>Washington</td>\n",
       "      <td>53061.0</td>\n",
       "      <td>1</td>\n",
       "      <td>0</td>\n",
       "    </tr>\n",
       "    <tr>\n",
       "      <th>2</th>\n",
       "      <td>2020-01-23</td>\n",
       "      <td>Snohomish</td>\n",
       "      <td>Washington</td>\n",
       "      <td>53061.0</td>\n",
       "      <td>1</td>\n",
       "      <td>0</td>\n",
       "    </tr>\n",
       "    <tr>\n",
       "      <th>3</th>\n",
       "      <td>2020-01-24</td>\n",
       "      <td>Cook</td>\n",
       "      <td>Illinois</td>\n",
       "      <td>17031.0</td>\n",
       "      <td>1</td>\n",
       "      <td>0</td>\n",
       "    </tr>\n",
       "    <tr>\n",
       "      <th>4</th>\n",
       "      <td>2020-01-24</td>\n",
       "      <td>Snohomish</td>\n",
       "      <td>Washington</td>\n",
       "      <td>53061.0</td>\n",
       "      <td>1</td>\n",
       "      <td>0</td>\n",
       "    </tr>\n",
       "    <tr>\n",
       "      <th>5</th>\n",
       "      <td>2020-01-25</td>\n",
       "      <td>Orange</td>\n",
       "      <td>California</td>\n",
       "      <td>6059.0</td>\n",
       "      <td>1</td>\n",
       "      <td>0</td>\n",
       "    </tr>\n",
       "    <tr>\n",
       "      <th>6</th>\n",
       "      <td>2020-01-25</td>\n",
       "      <td>Cook</td>\n",
       "      <td>Illinois</td>\n",
       "      <td>17031.0</td>\n",
       "      <td>1</td>\n",
       "      <td>0</td>\n",
       "    </tr>\n",
       "    <tr>\n",
       "      <th>7</th>\n",
       "      <td>2020-01-25</td>\n",
       "      <td>Snohomish</td>\n",
       "      <td>Washington</td>\n",
       "      <td>53061.0</td>\n",
       "      <td>1</td>\n",
       "      <td>0</td>\n",
       "    </tr>\n",
       "    <tr>\n",
       "      <th>8</th>\n",
       "      <td>2020-01-26</td>\n",
       "      <td>Maricopa</td>\n",
       "      <td>Arizona</td>\n",
       "      <td>4013.0</td>\n",
       "      <td>1</td>\n",
       "      <td>0</td>\n",
       "    </tr>\n",
       "    <tr>\n",
       "      <th>9</th>\n",
       "      <td>2020-01-26</td>\n",
       "      <td>Los Angeles</td>\n",
       "      <td>California</td>\n",
       "      <td>6037.0</td>\n",
       "      <td>1</td>\n",
       "      <td>0</td>\n",
       "    </tr>\n",
       "    <tr>\n",
       "      <th>10</th>\n",
       "      <td>2020-01-26</td>\n",
       "      <td>Orange</td>\n",
       "      <td>California</td>\n",
       "      <td>6059.0</td>\n",
       "      <td>1</td>\n",
       "      <td>0</td>\n",
       "    </tr>\n",
       "    <tr>\n",
       "      <th>11</th>\n",
       "      <td>2020-01-26</td>\n",
       "      <td>Cook</td>\n",
       "      <td>Illinois</td>\n",
       "      <td>17031.0</td>\n",
       "      <td>1</td>\n",
       "      <td>0</td>\n",
       "    </tr>\n",
       "    <tr>\n",
       "      <th>12</th>\n",
       "      <td>2020-01-26</td>\n",
       "      <td>Snohomish</td>\n",
       "      <td>Washington</td>\n",
       "      <td>53061.0</td>\n",
       "      <td>1</td>\n",
       "      <td>0</td>\n",
       "    </tr>\n",
       "    <tr>\n",
       "      <th>13</th>\n",
       "      <td>2020-01-27</td>\n",
       "      <td>Maricopa</td>\n",
       "      <td>Arizona</td>\n",
       "      <td>4013.0</td>\n",
       "      <td>1</td>\n",
       "      <td>0</td>\n",
       "    </tr>\n",
       "    <tr>\n",
       "      <th>14</th>\n",
       "      <td>2020-01-27</td>\n",
       "      <td>Los Angeles</td>\n",
       "      <td>California</td>\n",
       "      <td>6037.0</td>\n",
       "      <td>1</td>\n",
       "      <td>0</td>\n",
       "    </tr>\n",
       "    <tr>\n",
       "      <th>15</th>\n",
       "      <td>2020-01-27</td>\n",
       "      <td>Orange</td>\n",
       "      <td>California</td>\n",
       "      <td>6059.0</td>\n",
       "      <td>1</td>\n",
       "      <td>0</td>\n",
       "    </tr>\n",
       "    <tr>\n",
       "      <th>16</th>\n",
       "      <td>2020-01-27</td>\n",
       "      <td>Cook</td>\n",
       "      <td>Illinois</td>\n",
       "      <td>17031.0</td>\n",
       "      <td>1</td>\n",
       "      <td>0</td>\n",
       "    </tr>\n",
       "    <tr>\n",
       "      <th>17</th>\n",
       "      <td>2020-01-27</td>\n",
       "      <td>Snohomish</td>\n",
       "      <td>Washington</td>\n",
       "      <td>53061.0</td>\n",
       "      <td>1</td>\n",
       "      <td>0</td>\n",
       "    </tr>\n",
       "    <tr>\n",
       "      <th>18</th>\n",
       "      <td>2020-01-28</td>\n",
       "      <td>Maricopa</td>\n",
       "      <td>Arizona</td>\n",
       "      <td>4013.0</td>\n",
       "      <td>1</td>\n",
       "      <td>0</td>\n",
       "    </tr>\n",
       "    <tr>\n",
       "      <th>19</th>\n",
       "      <td>2020-01-28</td>\n",
       "      <td>Los Angeles</td>\n",
       "      <td>California</td>\n",
       "      <td>6037.0</td>\n",
       "      <td>1</td>\n",
       "      <td>0</td>\n",
       "    </tr>\n",
       "    <tr>\n",
       "      <th>20</th>\n",
       "      <td>2020-01-28</td>\n",
       "      <td>Orange</td>\n",
       "      <td>California</td>\n",
       "      <td>6059.0</td>\n",
       "      <td>1</td>\n",
       "      <td>0</td>\n",
       "    </tr>\n",
       "    <tr>\n",
       "      <th>21</th>\n",
       "      <td>2020-01-28</td>\n",
       "      <td>Cook</td>\n",
       "      <td>Illinois</td>\n",
       "      <td>17031.0</td>\n",
       "      <td>1</td>\n",
       "      <td>0</td>\n",
       "    </tr>\n",
       "    <tr>\n",
       "      <th>22</th>\n",
       "      <td>2020-01-28</td>\n",
       "      <td>Snohomish</td>\n",
       "      <td>Washington</td>\n",
       "      <td>53061.0</td>\n",
       "      <td>1</td>\n",
       "      <td>0</td>\n",
       "    </tr>\n",
       "    <tr>\n",
       "      <th>23</th>\n",
       "      <td>2020-01-29</td>\n",
       "      <td>Maricopa</td>\n",
       "      <td>Arizona</td>\n",
       "      <td>4013.0</td>\n",
       "      <td>1</td>\n",
       "      <td>0</td>\n",
       "    </tr>\n",
       "    <tr>\n",
       "      <th>24</th>\n",
       "      <td>2020-01-29</td>\n",
       "      <td>Los Angeles</td>\n",
       "      <td>California</td>\n",
       "      <td>6037.0</td>\n",
       "      <td>1</td>\n",
       "      <td>0</td>\n",
       "    </tr>\n",
       "    <tr>\n",
       "      <th>25</th>\n",
       "      <td>2020-01-29</td>\n",
       "      <td>Orange</td>\n",
       "      <td>California</td>\n",
       "      <td>6059.0</td>\n",
       "      <td>1</td>\n",
       "      <td>0</td>\n",
       "    </tr>\n",
       "    <tr>\n",
       "      <th>26</th>\n",
       "      <td>2020-01-29</td>\n",
       "      <td>Cook</td>\n",
       "      <td>Illinois</td>\n",
       "      <td>17031.0</td>\n",
       "      <td>1</td>\n",
       "      <td>0</td>\n",
       "    </tr>\n",
       "    <tr>\n",
       "      <th>27</th>\n",
       "      <td>2020-01-29</td>\n",
       "      <td>Snohomish</td>\n",
       "      <td>Washington</td>\n",
       "      <td>53061.0</td>\n",
       "      <td>1</td>\n",
       "      <td>0</td>\n",
       "    </tr>\n",
       "    <tr>\n",
       "      <th>28</th>\n",
       "      <td>2020-01-30</td>\n",
       "      <td>Maricopa</td>\n",
       "      <td>Arizona</td>\n",
       "      <td>4013.0</td>\n",
       "      <td>1</td>\n",
       "      <td>0</td>\n",
       "    </tr>\n",
       "    <tr>\n",
       "      <th>29</th>\n",
       "      <td>2020-01-30</td>\n",
       "      <td>Los Angeles</td>\n",
       "      <td>California</td>\n",
       "      <td>6037.0</td>\n",
       "      <td>1</td>\n",
       "      <td>0</td>\n",
       "    </tr>\n",
       "  </tbody>\n",
       "</table>\n",
       "</div>"
      ],
      "text/plain": [
       "          date       county       state     fips  cases  deaths\n",
       "0   2020-01-21    Snohomish  Washington  53061.0      1       0\n",
       "1   2020-01-22    Snohomish  Washington  53061.0      1       0\n",
       "2   2020-01-23    Snohomish  Washington  53061.0      1       0\n",
       "3   2020-01-24         Cook    Illinois  17031.0      1       0\n",
       "4   2020-01-24    Snohomish  Washington  53061.0      1       0\n",
       "5   2020-01-25       Orange  California   6059.0      1       0\n",
       "6   2020-01-25         Cook    Illinois  17031.0      1       0\n",
       "7   2020-01-25    Snohomish  Washington  53061.0      1       0\n",
       "8   2020-01-26     Maricopa     Arizona   4013.0      1       0\n",
       "9   2020-01-26  Los Angeles  California   6037.0      1       0\n",
       "10  2020-01-26       Orange  California   6059.0      1       0\n",
       "11  2020-01-26         Cook    Illinois  17031.0      1       0\n",
       "12  2020-01-26    Snohomish  Washington  53061.0      1       0\n",
       "13  2020-01-27     Maricopa     Arizona   4013.0      1       0\n",
       "14  2020-01-27  Los Angeles  California   6037.0      1       0\n",
       "15  2020-01-27       Orange  California   6059.0      1       0\n",
       "16  2020-01-27         Cook    Illinois  17031.0      1       0\n",
       "17  2020-01-27    Snohomish  Washington  53061.0      1       0\n",
       "18  2020-01-28     Maricopa     Arizona   4013.0      1       0\n",
       "19  2020-01-28  Los Angeles  California   6037.0      1       0\n",
       "20  2020-01-28       Orange  California   6059.0      1       0\n",
       "21  2020-01-28         Cook    Illinois  17031.0      1       0\n",
       "22  2020-01-28    Snohomish  Washington  53061.0      1       0\n",
       "23  2020-01-29     Maricopa     Arizona   4013.0      1       0\n",
       "24  2020-01-29  Los Angeles  California   6037.0      1       0\n",
       "25  2020-01-29       Orange  California   6059.0      1       0\n",
       "26  2020-01-29         Cook    Illinois  17031.0      1       0\n",
       "27  2020-01-29    Snohomish  Washington  53061.0      1       0\n",
       "28  2020-01-30     Maricopa     Arizona   4013.0      1       0\n",
       "29  2020-01-30  Los Angeles  California   6037.0      1       0"
      ]
     },
     "execution_count": 3,
     "metadata": {},
     "output_type": "execute_result"
    }
   ],
   "source": [
    "df.head(30)"
   ]
  },
  {
   "cell_type": "code",
   "execution_count": 4,
   "metadata": {},
   "outputs": [],
   "source": [
    "# dropping ALL duplicte values \n",
    "df.drop_duplicates(subset =\"date\", inplace = True) "
   ]
  },
  {
   "cell_type": "code",
   "execution_count": 5,
   "metadata": {},
   "outputs": [
    {
     "data": {
      "text/html": [
       "<div>\n",
       "<style scoped>\n",
       "    .dataframe tbody tr th:only-of-type {\n",
       "        vertical-align: middle;\n",
       "    }\n",
       "\n",
       "    .dataframe tbody tr th {\n",
       "        vertical-align: top;\n",
       "    }\n",
       "\n",
       "    .dataframe thead th {\n",
       "        text-align: right;\n",
       "    }\n",
       "</style>\n",
       "<table border=\"1\" class=\"dataframe\">\n",
       "  <thead>\n",
       "    <tr style=\"text-align: right;\">\n",
       "      <th></th>\n",
       "      <th>date</th>\n",
       "      <th>county</th>\n",
       "      <th>state</th>\n",
       "      <th>fips</th>\n",
       "      <th>cases</th>\n",
       "      <th>deaths</th>\n",
       "    </tr>\n",
       "  </thead>\n",
       "  <tbody>\n",
       "    <tr>\n",
       "      <th>0</th>\n",
       "      <td>2020-01-21</td>\n",
       "      <td>Snohomish</td>\n",
       "      <td>Washington</td>\n",
       "      <td>53061.0</td>\n",
       "      <td>1</td>\n",
       "      <td>0</td>\n",
       "    </tr>\n",
       "    <tr>\n",
       "      <th>1</th>\n",
       "      <td>2020-01-22</td>\n",
       "      <td>Snohomish</td>\n",
       "      <td>Washington</td>\n",
       "      <td>53061.0</td>\n",
       "      <td>1</td>\n",
       "      <td>0</td>\n",
       "    </tr>\n",
       "    <tr>\n",
       "      <th>2</th>\n",
       "      <td>2020-01-23</td>\n",
       "      <td>Snohomish</td>\n",
       "      <td>Washington</td>\n",
       "      <td>53061.0</td>\n",
       "      <td>1</td>\n",
       "      <td>0</td>\n",
       "    </tr>\n",
       "    <tr>\n",
       "      <th>3</th>\n",
       "      <td>2020-01-24</td>\n",
       "      <td>Cook</td>\n",
       "      <td>Illinois</td>\n",
       "      <td>17031.0</td>\n",
       "      <td>1</td>\n",
       "      <td>0</td>\n",
       "    </tr>\n",
       "    <tr>\n",
       "      <th>5</th>\n",
       "      <td>2020-01-25</td>\n",
       "      <td>Orange</td>\n",
       "      <td>California</td>\n",
       "      <td>6059.0</td>\n",
       "      <td>1</td>\n",
       "      <td>0</td>\n",
       "    </tr>\n",
       "  </tbody>\n",
       "</table>\n",
       "</div>"
      ],
      "text/plain": [
       "         date     county       state     fips  cases  deaths\n",
       "0  2020-01-21  Snohomish  Washington  53061.0      1       0\n",
       "1  2020-01-22  Snohomish  Washington  53061.0      1       0\n",
       "2  2020-01-23  Snohomish  Washington  53061.0      1       0\n",
       "3  2020-01-24       Cook    Illinois  17031.0      1       0\n",
       "5  2020-01-25     Orange  California   6059.0      1       0"
      ]
     },
     "execution_count": 5,
     "metadata": {},
     "output_type": "execute_result"
    }
   ],
   "source": [
    "df.head()"
   ]
  },
  {
   "cell_type": "code",
   "execution_count": 6,
   "metadata": {},
   "outputs": [
    {
     "data": {
      "text/plain": [
       "(145, 6)"
      ]
     },
     "execution_count": 6,
     "metadata": {},
     "output_type": "execute_result"
    }
   ],
   "source": [
    "df.shape"
   ]
  },
  {
   "cell_type": "code",
   "execution_count": 7,
   "metadata": {},
   "outputs": [],
   "source": [
    "df = df.drop(['county', 'state', 'fips', 'deaths'], axis = 1)"
   ]
  },
  {
   "cell_type": "code",
   "execution_count": 8,
   "metadata": {},
   "outputs": [
    {
     "data": {
      "text/html": [
       "<div>\n",
       "<style scoped>\n",
       "    .dataframe tbody tr th:only-of-type {\n",
       "        vertical-align: middle;\n",
       "    }\n",
       "\n",
       "    .dataframe tbody tr th {\n",
       "        vertical-align: top;\n",
       "    }\n",
       "\n",
       "    .dataframe thead th {\n",
       "        text-align: right;\n",
       "    }\n",
       "</style>\n",
       "<table border=\"1\" class=\"dataframe\">\n",
       "  <thead>\n",
       "    <tr style=\"text-align: right;\">\n",
       "      <th></th>\n",
       "      <th>cases</th>\n",
       "    </tr>\n",
       "  </thead>\n",
       "  <tbody>\n",
       "    <tr>\n",
       "      <th>count</th>\n",
       "      <td>145.000000</td>\n",
       "    </tr>\n",
       "    <tr>\n",
       "      <th>mean</th>\n",
       "      <td>55.675862</td>\n",
       "    </tr>\n",
       "    <tr>\n",
       "      <th>std</th>\n",
       "      <td>87.023774</td>\n",
       "    </tr>\n",
       "    <tr>\n",
       "      <th>min</th>\n",
       "      <td>1.000000</td>\n",
       "    </tr>\n",
       "    <tr>\n",
       "      <th>25%</th>\n",
       "      <td>1.000000</td>\n",
       "    </tr>\n",
       "    <tr>\n",
       "      <th>50%</th>\n",
       "      <td>10.000000</td>\n",
       "    </tr>\n",
       "    <tr>\n",
       "      <th>75%</th>\n",
       "      <td>67.000000</td>\n",
       "    </tr>\n",
       "    <tr>\n",
       "      <th>max</th>\n",
       "      <td>335.000000</td>\n",
       "    </tr>\n",
       "  </tbody>\n",
       "</table>\n",
       "</div>"
      ],
      "text/plain": [
       "            cases\n",
       "count  145.000000\n",
       "mean    55.675862\n",
       "std     87.023774\n",
       "min      1.000000\n",
       "25%      1.000000\n",
       "50%     10.000000\n",
       "75%     67.000000\n",
       "max    335.000000"
      ]
     },
     "execution_count": 8,
     "metadata": {},
     "output_type": "execute_result"
    }
   ],
   "source": [
    "df.describe() #Checking datasets statistics"
   ]
  },
  {
   "cell_type": "code",
   "execution_count": 9,
   "metadata": {},
   "outputs": [
    {
     "data": {
      "text/html": [
       "<div>\n",
       "<style scoped>\n",
       "    .dataframe tbody tr th:only-of-type {\n",
       "        vertical-align: middle;\n",
       "    }\n",
       "\n",
       "    .dataframe tbody tr th {\n",
       "        vertical-align: top;\n",
       "    }\n",
       "\n",
       "    .dataframe thead th {\n",
       "        text-align: right;\n",
       "    }\n",
       "</style>\n",
       "<table border=\"1\" class=\"dataframe\">\n",
       "  <thead>\n",
       "    <tr style=\"text-align: right;\">\n",
       "      <th></th>\n",
       "      <th>date</th>\n",
       "      <th>cases</th>\n",
       "    </tr>\n",
       "  </thead>\n",
       "  <tbody>\n",
       "    <tr>\n",
       "      <th>230714</th>\n",
       "      <td>2020-06-13</td>\n",
       "      <td>335</td>\n",
       "    </tr>\n",
       "    <tr>\n",
       "      <th>227689</th>\n",
       "      <td>2020-06-12</td>\n",
       "      <td>327</td>\n",
       "    </tr>\n",
       "    <tr>\n",
       "      <th>224666</th>\n",
       "      <td>2020-06-11</td>\n",
       "      <td>316</td>\n",
       "    </tr>\n",
       "    <tr>\n",
       "      <th>221644</th>\n",
       "      <td>2020-06-10</td>\n",
       "      <td>296</td>\n",
       "    </tr>\n",
       "    <tr>\n",
       "      <th>218628</th>\n",
       "      <td>2020-06-09</td>\n",
       "      <td>283</td>\n",
       "    </tr>\n",
       "    <tr>\n",
       "      <th>215616</th>\n",
       "      <td>2020-06-08</td>\n",
       "      <td>273</td>\n",
       "    </tr>\n",
       "    <tr>\n",
       "      <th>212606</th>\n",
       "      <td>2020-06-07</td>\n",
       "      <td>266</td>\n",
       "    </tr>\n",
       "    <tr>\n",
       "      <th>209599</th>\n",
       "      <td>2020-06-06</td>\n",
       "      <td>260</td>\n",
       "    </tr>\n",
       "    <tr>\n",
       "      <th>206593</th>\n",
       "      <td>2020-06-05</td>\n",
       "      <td>249</td>\n",
       "    </tr>\n",
       "    <tr>\n",
       "      <th>203591</th>\n",
       "      <td>2020-06-04</td>\n",
       "      <td>242</td>\n",
       "    </tr>\n",
       "  </tbody>\n",
       "</table>\n",
       "</div>"
      ],
      "text/plain": [
       "              date  cases\n",
       "230714  2020-06-13    335\n",
       "227689  2020-06-12    327\n",
       "224666  2020-06-11    316\n",
       "221644  2020-06-10    296\n",
       "218628  2020-06-09    283\n",
       "215616  2020-06-08    273\n",
       "212606  2020-06-07    266\n",
       "209599  2020-06-06    260\n",
       "206593  2020-06-05    249\n",
       "203591  2020-06-04    242"
      ]
     },
     "execution_count": 9,
     "metadata": {},
     "output_type": "execute_result"
    }
   ],
   "source": [
    "#Checking top 10 Values, Which will give me idea if there is any Outlier present in the dataset or any large value present in the dataset\n",
    "df.nlargest(10, ['cases'])"
   ]
  },
  {
   "cell_type": "code",
   "execution_count": 10,
   "metadata": {},
   "outputs": [],
   "source": [
    "df=df.set_index('date')"
   ]
  },
  {
   "cell_type": "code",
   "execution_count": 11,
   "metadata": {},
   "outputs": [
    {
     "data": {
      "text/html": [
       "<div>\n",
       "<style scoped>\n",
       "    .dataframe tbody tr th:only-of-type {\n",
       "        vertical-align: middle;\n",
       "    }\n",
       "\n",
       "    .dataframe tbody tr th {\n",
       "        vertical-align: top;\n",
       "    }\n",
       "\n",
       "    .dataframe thead th {\n",
       "        text-align: right;\n",
       "    }\n",
       "</style>\n",
       "<table border=\"1\" class=\"dataframe\">\n",
       "  <thead>\n",
       "    <tr style=\"text-align: right;\">\n",
       "      <th></th>\n",
       "      <th>cases</th>\n",
       "    </tr>\n",
       "    <tr>\n",
       "      <th>date</th>\n",
       "      <th></th>\n",
       "    </tr>\n",
       "  </thead>\n",
       "  <tbody>\n",
       "    <tr>\n",
       "      <th>2020-01-21</th>\n",
       "      <td>1</td>\n",
       "    </tr>\n",
       "    <tr>\n",
       "      <th>2020-01-22</th>\n",
       "      <td>1</td>\n",
       "    </tr>\n",
       "    <tr>\n",
       "      <th>2020-01-23</th>\n",
       "      <td>1</td>\n",
       "    </tr>\n",
       "    <tr>\n",
       "      <th>2020-01-24</th>\n",
       "      <td>1</td>\n",
       "    </tr>\n",
       "    <tr>\n",
       "      <th>2020-01-25</th>\n",
       "      <td>1</td>\n",
       "    </tr>\n",
       "  </tbody>\n",
       "</table>\n",
       "</div>"
      ],
      "text/plain": [
       "            cases\n",
       "date             \n",
       "2020-01-21      1\n",
       "2020-01-22      1\n",
       "2020-01-23      1\n",
       "2020-01-24      1\n",
       "2020-01-25      1"
      ]
     },
     "execution_count": 11,
     "metadata": {},
     "output_type": "execute_result"
    }
   ],
   "source": [
    "df.head()"
   ]
  },
  {
   "cell_type": "markdown",
   "metadata": {},
   "source": [
    "# EDA"
   ]
  },
  {
   "cell_type": "code",
   "execution_count": 12,
   "metadata": {},
   "outputs": [
    {
     "data": {
      "image/png": "[encoded data removed]",
      "text/plain": [
       "<Figure size 1080x360 with 1 Axes>"
      ]
     },
     "metadata": {
      "needs_background": "light"
     },
     "output_type": "display_data"
    }
   ],
   "source": [
    "df.plot(kind=\"line\",figsize=(15,5))\n",
    "plt.show()"
   ]
  },
  {
   "cell_type": "raw",
   "metadata": {},
   "source": [
    "Details of above plot -\n",
    "\n",
    "We can see trend present in the datasetWill confirm it more with decomposition methods"
   ]
  },
  {
   "cell_type": "markdown",
   "metadata": {},
   "source": [
    "# Checking for Stationarity \n",
    "\n",
    "# using Ad fuller test\n"
   ]
  },
  {
   "cell_type": "code",
   "execution_count": 13,
   "metadata": {},
   "outputs": [],
   "source": [
    "from statsmodels.tsa.stattools import adfuller\n",
    "test_result=adfuller(df['cases'])"
   ]
  },
  {
   "cell_type": "code",
   "execution_count": 14,
   "metadata": {},
   "outputs": [],
   "source": [
    "# Here I am considering H0 as Non stationary, and H1 as stationary\n",
    "#Ho: It is non stationary\n",
    "#H1: It is stationary\n",
    "\n",
    "def adfuller_test(cases):\n",
    "    result=adfuller(cases)\n",
    "    labels = ['ADF Test Statistic','p-value','#Lags Used','Number of Observations Used']\n",
    "    for value,label in zip(result,labels):\n",
    "        print(label+' : '+str(value) )\n",
    "    if result[1] <= 0.05:\n",
    "        print(\"strong evidence against the null hypothesis(Ho), reject the null hypothesis. Data has no unit root and is stationary\")\n",
    "    else:\n",
    "        print(\"weak evidence against null hypothesis, time series has a unit root, indicating it is non-stationary \")\n"
   ]
  },
  {
   "cell_type": "code",
   "execution_count": 15,
   "metadata": {},
   "outputs": [
    {
     "name": "stdout",
     "output_type": "stream",
     "text": [
      "ADF Test Statistic : 13.58218760045432\n",
      "p-value : 1.0\n",
      "#Lags Used : 0\n",
      "Number of Observations Used : 144\n",
      "weak evidence against null hypothesis, time series has a unit root, indicating it is non-stationary \n"
     ]
    }
   ],
   "source": [
    "adfuller_test(df['cases'])"
   ]
  },
  {
   "cell_type": "markdown",
   "metadata": {},
   "source": [
    "## Checking which components are present- using decomposition method\n",
    "\n",
    "###  Decomposition Methods\n",
    "•Decomposition methods are based on an analysis of the\n",
    "individual components of a time series. The strength of\n",
    "each component is estimated separately and then\n",
    "substituted into a model that explains the behavior of the\n",
    "time series.\n",
    "\n",
    "We have two types of Decomposition methods-\n",
    "\n",
    "1. Additive: xt = Trend + Seasonal +Cyclic+ Random,\n",
    "The multiplicative decomposition model is expressed as the product of the four components of a time series: Yt = TRt × St × Ct × It and Is useful when seasonal variation is increasing overtime\n",
    "2. Multiplicative: xt = Trend * Seasonal* Cyclic * Random \n",
    "Another approach is to treat each observation of a time series as the sum of these four components. Yt = TRt + St + Ct + It and Is useful when season variation is relatively constant over time\n",
    "\n",
    "Here I will try both the models and see the differences"
   ]
  },
  {
   "cell_type": "code",
   "execution_count": 16,
   "metadata": {},
   "outputs": [
    {
     "data": {
      "image/png": "[encoded data removed]",
      "text/plain": [
       "<Figure size 432x288 with 1 Axes>"
      ]
     },
     "metadata": {
      "needs_background": "light"
     },
     "output_type": "display_data"
    },
    {
     "data": {
      "image/png": "[encoded data removed]",
      "text/plain": [
       "<Figure size 720x432 with 3 Axes>"
      ]
     },
     "metadata": {
      "needs_background": "light"
     },
     "output_type": "display_data"
    }
   ],
   "source": [
    "import statsmodels.tsa.seasonal as sts\n",
    "decomposition = sts.seasonal_decompose(df,model='multiplicative', freq=12)\n",
    "\n",
    "trend = decomposition.trend\n",
    "seasonal = decomposition.seasonal\n",
    "residual = decomposition.resid\n",
    "\n",
    "plt.subplot(411)\n",
    "df.plot(kind=\"line\",figsize=(10,6),label='Original')\n",
    "plt.subplot(412)\n",
    "trend.plot(kind=\"line\",figsize=(10,6),label='trend')\n",
    "plt.legend(loc='best')\n",
    "plt.subplot(413)\n",
    "seasonal.plot(kind=\"line\",figsize=(10,6),label='Seasonality')\n",
    "plt.legend(loc='best')\n",
    "plt.subplot(414)\n",
    "residual.plot(kind=\"line\",figsize=(10,6),label='Residuals')\n",
    "plt.legend(loc='best')\n",
    "plt.tight_layout()"
   ]
  },
  {
   "cell_type": "code",
   "execution_count": 17,
   "metadata": {},
   "outputs": [
    {
     "data": {
      "image/png": "[encoded data removed]",
      "text/plain": [
       "<Figure size 432x288 with 1 Axes>"
      ]
     },
     "metadata": {
      "needs_background": "light"
     },
     "output_type": "display_data"
    },
    {
     "data": {
      "image/png": "[encoded data removed]",
      "text/plain": [
       "<Figure size 720x432 with 3 Axes>"
      ]
     },
     "metadata": {
      "needs_background": "light"
     },
     "output_type": "display_data"
    }
   ],
   "source": [
    "import statsmodels.tsa.seasonal as sts\n",
    "decomposition = sts.seasonal_decompose(df,model='additive', freq=12)\n",
    "\n",
    "trend = decomposition.trend\n",
    "seasonal = decomposition.seasonal\n",
    "residual = decomposition.resid\n",
    "\n",
    "plt.subplot(411)\n",
    "df.plot(kind=\"line\",figsize=(10,6),label='Original')\n",
    "plt.subplot(412)\n",
    "trend.plot(kind=\"line\",figsize=(10,6),label='trend')\n",
    "plt.legend(loc='best')\n",
    "plt.subplot(413)\n",
    "seasonal.plot(kind=\"line\",figsize=(10,6),label='Seasonality')\n",
    "plt.legend(loc='best')\n",
    "plt.subplot(414)\n",
    "residual.plot(kind=\"line\",figsize=(10,6),label='Residuals')\n",
    "plt.legend(loc='best')\n",
    "plt.tight_layout()"
   ]
  },
  {
   "cell_type": "raw",
   "metadata": {},
   "source": [
    "Analysis of Decomposition plot-\n",
    "\n",
    "It clearly shows there is trend and seasonality present in the series\n",
    "\n",
    "\n",
    "We have few options here , We can use Smoothing techniques to forecast or Make it stationary and Build an ARIMA and SARIMA MODEL\n",
    " I will use Smoothing techniques for now- But later Make it Stationary and Train ARIMA AND SARIMA models also"
   ]
  },
  {
   "cell_type": "markdown",
   "metadata": {},
   "source": [
    "## Smoothing technique - "
   ]
  },
  {
   "cell_type": "raw",
   "metadata": {},
   "source": [
    "Smoothing techniques remove fluctuations in a\n",
    "time series. The fluctuations may be due to\n",
    "seasonal and irregular components, so the result of\n",
    "removing them from the time series reflects only\n",
    "the trend and cyclical components\n",
    "\n",
    "Types of Smoothing techniques -\n",
    "\n",
    "1.Moving average\n",
    "2. Centered Moving average\n",
    "3. Exponential smoothing technique\n",
    "\n",
    "Types of Exponential smoothing technique\n",
    "\n",
    "If no trend or Seasonality present, Use Simple Exponential smoothing technique\n",
    "If trend is present , Use Holt's Trend corrected smoothing technique\n",
    "If both trend and seasonal components present, use Holt's Winter method\n",
    "\n",
    "\n",
    "Here We saw while decomposing the components that There was trend present and Seasonality are present there Hence Will use Holt's winter method but Will use other methods"
   ]
  },
  {
   "cell_type": "code",
   "execution_count": 18,
   "metadata": {},
   "outputs": [],
   "source": [
    "from statsmodels.tsa.api import ExponentialSmoothing, SimpleExpSmoothing, Holt"
   ]
  },
  {
   "cell_type": "code",
   "execution_count": 19,
   "metadata": {},
   "outputs": [],
   "source": [
    "train=df[0:100]  #Spliting into train and test\n",
    "test=df[100:]"
   ]
  },
  {
   "cell_type": "code",
   "execution_count": 20,
   "metadata": {},
   "outputs": [
    {
     "data": {
      "text/plain": [
       "(100, 1)"
      ]
     },
     "execution_count": 20,
     "metadata": {},
     "output_type": "execute_result"
    }
   ],
   "source": [
    "train.shape"
   ]
  },
  {
   "cell_type": "code",
   "execution_count": 21,
   "metadata": {},
   "outputs": [
    {
     "data": {
      "text/plain": [
       "(45, 1)"
      ]
     },
     "execution_count": 21,
     "metadata": {},
     "output_type": "execute_result"
    }
   ],
   "source": [
    "test.shape"
   ]
  },
  {
   "cell_type": "code",
   "execution_count": 22,
   "metadata": {},
   "outputs": [
    {
     "data": {
      "text/html": [
       "<table class=\"simpletable\">\n",
       "<caption>Holt Model Results</caption>\n",
       "<tr>\n",
       "  <th>Dep. Variable:</th>      <td>endog</td>  <th>  No. Observations:  </th>        <td>100</td>      \n",
       "</tr>\n",
       "<tr>\n",
       "  <th>Model:</th>              <td>Holt</td>   <th>  SSE                </th>      <td>88.084</td>     \n",
       "</tr>\n",
       "<tr>\n",
       "  <th>Optimized:</th>          <td>True</td>   <th>  AIC                </th>      <td>-4.688</td>     \n",
       "</tr>\n",
       "<tr>\n",
       "  <th>Trend:</th>            <td>Additive</td> <th>  BIC                </th>       <td>5.733</td>     \n",
       "</tr>\n",
       "<tr>\n",
       "  <th>Seasonal:</th>           <td>None</td>   <th>  AICC               </th>      <td>-3.785</td>     \n",
       "</tr>\n",
       "<tr>\n",
       "  <th>Seasonal Periods:</th>   <td>None</td>   <th>  Date:              </th> <td>Wed, 17 Jun 2020</td>\n",
       "</tr>\n",
       "<tr>\n",
       "  <th>Box-Cox:</th>            <td>False</td>  <th>  Time:              </th>     <td>02:10:10</td>    \n",
       "</tr>\n",
       "<tr>\n",
       "  <th>Box-Cox Coeff.:</th>     <td>None</td>   <th>                     </th>         <td> </td>       \n",
       "</tr>\n",
       "</table>\n",
       "<table class=\"simpletable\">\n",
       "<tr>\n",
       "         <td></td>                 <th>coeff</th>                <th>code</th>               <th>optimized</th>     \n",
       "</tr>\n",
       "<tr>\n",
       "  <th>smoothing_level</th> <td>           0.5000000</td> <td>               alpha</td> <td>               False</td>\n",
       "</tr>\n",
       "<tr>\n",
       "  <th>smoothing_slope</th> <td>           0.1797537</td> <td>                beta</td> <td>                True</td>\n",
       "</tr>\n",
       "<tr>\n",
       "  <th>initial_level</th>   <td>           0.9991811</td> <td>                 l.0</td> <td>                True</td>\n",
       "</tr>\n",
       "<tr>\n",
       "  <th>initial_slope</th>   <td>           4.577e-05</td> <td>                 b.0</td> <td>                True</td>\n",
       "</tr>\n",
       "</table>"
      ],
      "text/plain": [
       "<class 'statsmodels.iolib.summary.Summary'>\n",
       "\"\"\"\n",
       "                              Holt Model Results                              \n",
       "==============================================================================\n",
       "Dep. Variable:                  endog   No. Observations:                  100\n",
       "Model:                           Holt   SSE                             88.084\n",
       "Optimized:                       True   AIC                             -4.688\n",
       "Trend:                       Additive   BIC                              5.733\n",
       "Seasonal:                        None   AICC                            -3.785\n",
       "Seasonal Periods:                None   Date:                 Wed, 17 Jun 2020\n",
       "Box-Cox:                        False   Time:                         02:10:10\n",
       "Box-Cox Coeff.:                  None                                         \n",
       "==============================================================================\n",
       "                       coeff                 code              optimized      \n",
       "------------------------------------------------------------------------------\n",
       "smoothing_level            0.5000000                alpha                False\n",
       "smoothing_slope            0.1797537                 beta                 True\n",
       "initial_level              0.9991811                  l.0                 True\n",
       "initial_slope              4.577e-05                  b.0                 True\n",
       "------------------------------------------------------------------------------\n",
       "\"\"\""
      ]
     },
     "execution_count": 22,
     "metadata": {},
     "output_type": "execute_result"
    }
   ],
   "source": [
    "y_hat_avg = test.copy()\n",
    "fit1 = Holt(np.asarray(train['cases'])).fit(smoothing_level = 0.5)\n",
    "fit1.summary()"
   ]
  },
  {
   "cell_type": "code",
   "execution_count": 23,
   "metadata": {},
   "outputs": [
    {
     "data": {
      "image/png": "[encoded data removed]",
      "text/plain": [
       "<Figure size 1152x576 with 1 Axes>"
      ]
     },
     "metadata": {
      "needs_background": "light"
     },
     "output_type": "display_data"
    }
   ],
   "source": [
    "\n",
    "y_hat_avg['Holt_linear'] = fit1.forecast(len(test))\n",
    "\n",
    "plt.figure(figsize=(16,8))\n",
    "plt.plot(train['cases'], label='Train')\n",
    "plt.plot(test['cases'], label='Test')\n",
    "plt.plot(y_hat_avg['Holt_linear'], label='Holt_linear')\n",
    "plt.legend(loc='best')\n",
    "plt.show()"
   ]
  },
  {
   "cell_type": "code",
   "execution_count": 24,
   "metadata": {},
   "outputs": [],
   "source": [
    "from sklearn.metrics import mean_squared_error\n",
    "from math import sqrt"
   ]
  },
  {
   "cell_type": "code",
   "execution_count": 25,
   "metadata": {},
   "outputs": [
    {
     "name": "stdout",
     "output_type": "stream",
     "text": [
      "109.62241907072666\n"
     ]
    }
   ],
   "source": [
    "rmse_trend_smoothing = sqrt(mean_squared_error(test.cases, y_hat_avg.Holt_linear))\n",
    "print(rmse_trend_smoothing)"
   ]
  },
  {
   "cell_type": "markdown",
   "metadata": {},
   "source": [
    "#### Holt's winter smoothing technique for seasonality and trend"
   ]
  },
  {
   "cell_type": "code",
   "execution_count": 26,
   "metadata": {},
   "outputs": [
    {
     "data": {
      "text/html": [
       "<table class=\"simpletable\">\n",
       "<caption>ExponentialSmoothing Model Results</caption>\n",
       "<tr>\n",
       "  <th>Dep. Variable:</th>            <td>endog</td>        <th>  No. Observations:  </th>        <td>100</td>      \n",
       "</tr>\n",
       "<tr>\n",
       "  <th>Model:</th>            <td>ExponentialSmoothing</td> <th>  SSE                </th>      <td>77.525</td>     \n",
       "</tr>\n",
       "<tr>\n",
       "  <th>Optimized:</th>                <td>True</td>         <th>  AIC                </th>      <td>-3.457</td>     \n",
       "</tr>\n",
       "<tr>\n",
       "  <th>Trend:</th>                  <td>Additive</td>       <th>  BIC                </th>      <td>25.200</td>     \n",
       "</tr>\n",
       "<tr>\n",
       "  <th>Seasonal:</th>               <td>Additive</td>       <th>  AICC               </th>       <td>0.776</td>     \n",
       "</tr>\n",
       "<tr>\n",
       "  <th>Seasonal Periods:</th>           <td>7</td>          <th>  Date:              </th> <td>Wed, 17 Jun 2020</td>\n",
       "</tr>\n",
       "<tr>\n",
       "  <th>Box-Cox:</th>                  <td>False</td>        <th>  Time:              </th>     <td>02:10:15</td>    \n",
       "</tr>\n",
       "<tr>\n",
       "  <th>Box-Cox Coeff.:</th>           <td>None</td>         <th>                     </th>         <td> </td>       \n",
       "</tr>\n",
       "</table>\n",
       "<table class=\"simpletable\">\n",
       "<tr>\n",
       "           <td></td>                  <th>coeff</th>                <th>code</th>               <th>optimized</th>     \n",
       "</tr>\n",
       "<tr>\n",
       "  <th>smoothing_level</th>    <td>           0.6438996</td> <td>               alpha</td> <td>                True</td>\n",
       "</tr>\n",
       "<tr>\n",
       "  <th>smoothing_slope</th>    <td>           0.1562623</td> <td>                beta</td> <td>                True</td>\n",
       "</tr>\n",
       "<tr>\n",
       "  <th>smoothing_seasonal</th> <td>            0.000000</td> <td>               gamma</td> <td>                True</td>\n",
       "</tr>\n",
       "<tr>\n",
       "  <th>initial_level</th>      <td>           8.3706788</td> <td>                 l.0</td> <td>                True</td>\n",
       "</tr>\n",
       "<tr>\n",
       "  <th>initial_slope</th>      <td>            0.000000</td> <td>                 b.0</td> <td>                True</td>\n",
       "</tr>\n",
       "<tr>\n",
       "  <th>initial_seasons.0</th>  <td>          -7.5543459</td> <td>                 s.0</td> <td>                True</td>\n",
       "</tr>\n",
       "<tr>\n",
       "  <th>initial_seasons.1</th>  <td>          -7.0559446</td> <td>                 s.1</td> <td>                True</td>\n",
       "</tr>\n",
       "<tr>\n",
       "  <th>initial_seasons.2</th>  <td>          -7.0312622</td> <td>                 s.2</td> <td>                True</td>\n",
       "</tr>\n",
       "<tr>\n",
       "  <th>initial_seasons.3</th>  <td>          -6.9229703</td> <td>                 s.3</td> <td>                True</td>\n",
       "</tr>\n",
       "<tr>\n",
       "  <th>initial_seasons.4</th>  <td>          -7.1868337</td> <td>                 s.4</td> <td>                True</td>\n",
       "</tr>\n",
       "<tr>\n",
       "  <th>initial_seasons.5</th>  <td>          -7.4657898</td> <td>                 s.5</td> <td>                True</td>\n",
       "</tr>\n",
       "<tr>\n",
       "  <th>initial_seasons.6</th>  <td>          -7.5455044</td> <td>                 s.6</td> <td>                True</td>\n",
       "</tr>\n",
       "</table>"
      ],
      "text/plain": [
       "<class 'statsmodels.iolib.summary.Summary'>\n",
       "\"\"\"\n",
       "                       ExponentialSmoothing Model Results                       \n",
       "================================================================================\n",
       "Dep. Variable:                    endog   No. Observations:                  100\n",
       "Model:             ExponentialSmoothing   SSE                             77.525\n",
       "Optimized:                         True   AIC                             -3.457\n",
       "Trend:                         Additive   BIC                             25.200\n",
       "Seasonal:                      Additive   AICC                             0.776\n",
       "Seasonal Periods:                     7   Date:                 Wed, 17 Jun 2020\n",
       "Box-Cox:                          False   Time:                         02:10:15\n",
       "Box-Cox Coeff.:                    None                                         \n",
       "=================================================================================\n",
       "                          coeff                 code              optimized      \n",
       "---------------------------------------------------------------------------------\n",
       "smoothing_level               0.6438996                alpha                 True\n",
       "smoothing_slope               0.1562623                 beta                 True\n",
       "smoothing_seasonal             0.000000                gamma                 True\n",
       "initial_level                 8.3706788                  l.0                 True\n",
       "initial_slope                  0.000000                  b.0                 True\n",
       "initial_seasons.0            -7.5543459                  s.0                 True\n",
       "initial_seasons.1            -7.0559446                  s.1                 True\n",
       "initial_seasons.2            -7.0312622                  s.2                 True\n",
       "initial_seasons.3            -6.9229703                  s.3                 True\n",
       "initial_seasons.4            -7.1868337                  s.4                 True\n",
       "initial_seasons.5            -7.4657898                  s.5                 True\n",
       "initial_seasons.6            -7.5455044                  s.6                 True\n",
       "---------------------------------------------------------------------------------\n",
       "\"\"\""
      ]
     },
     "execution_count": 26,
     "metadata": {},
     "output_type": "execute_result"
    }
   ],
   "source": [
    "y_hat_avg2 = test.copy()\n",
    "fit2 = ExponentialSmoothing(np.asarray(train['cases']) ,seasonal_periods=7 ,trend='add', seasonal='add',).fit()\n",
    "fit2.summary()"
   ]
  },
  {
   "cell_type": "code",
   "execution_count": 27,
   "metadata": {},
   "outputs": [
    {
     "data": {
      "image/png": "[encoded data removed]",
      "text/plain": [
       "<Figure size 1152x576 with 1 Axes>"
      ]
     },
     "metadata": {
      "needs_background": "light"
     },
     "output_type": "display_data"
    }
   ],
   "source": [
    "\n",
    "y_hat_avg2['Holt_Winter'] = fit2.forecast(len(test))\n",
    "plt.figure(figsize=(16,8))\n",
    "plt.plot( train['cases'], label='Train')\n",
    "plt.plot(test['cases'], label='Test')\n",
    "plt.plot(y_hat_avg2['Holt_Winter'], label='Holt_Winter')\n",
    "plt.legend(loc='best')\n",
    "plt.show()"
   ]
  },
  {
   "cell_type": "code",
   "execution_count": 28,
   "metadata": {},
   "outputs": [
    {
     "name": "stdout",
     "output_type": "stream",
     "text": [
      "109.88472929966045\n"
     ]
    }
   ],
   "source": [
    "rmse_trend_Seasonality_smoothing = sqrt(mean_squared_error(test.cases, y_hat_avg2.Holt_Winter))\n",
    "print(rmse_trend_Seasonality_smoothing)"
   ]
  },
  {
   "cell_type": "markdown",
   "metadata": {},
   "source": [
    "# ARIMA Modeling\n",
    "\n",
    "\n"
   ]
  },
  {
   "cell_type": "raw",
   "metadata": {},
   "source": [
    "Making data stationary before modeling it , Will take lag difference of 1 because there is seasonality present in the dataset"
   ]
  },
  {
   "cell_type": "code",
   "execution_count": 29,
   "metadata": {},
   "outputs": [],
   "source": [
    "df['cases'] = df['cases'] - df['cases'].shift(1)\n"
   ]
  },
  {
   "cell_type": "code",
   "execution_count": 30,
   "metadata": {},
   "outputs": [
    {
     "data": {
      "text/html": [
       "<div>\n",
       "<style scoped>\n",
       "    .dataframe tbody tr th:only-of-type {\n",
       "        vertical-align: middle;\n",
       "    }\n",
       "\n",
       "    .dataframe tbody tr th {\n",
       "        vertical-align: top;\n",
       "    }\n",
       "\n",
       "    .dataframe thead th {\n",
       "        text-align: right;\n",
       "    }\n",
       "</style>\n",
       "<table border=\"1\" class=\"dataframe\">\n",
       "  <thead>\n",
       "    <tr style=\"text-align: right;\">\n",
       "      <th></th>\n",
       "      <th>cases</th>\n",
       "    </tr>\n",
       "    <tr>\n",
       "      <th>date</th>\n",
       "      <th></th>\n",
       "    </tr>\n",
       "  </thead>\n",
       "  <tbody>\n",
       "    <tr>\n",
       "      <th>2020-01-21</th>\n",
       "      <td>NaN</td>\n",
       "    </tr>\n",
       "    <tr>\n",
       "      <th>2020-01-22</th>\n",
       "      <td>0.0</td>\n",
       "    </tr>\n",
       "    <tr>\n",
       "      <th>2020-01-23</th>\n",
       "      <td>0.0</td>\n",
       "    </tr>\n",
       "    <tr>\n",
       "      <th>2020-01-24</th>\n",
       "      <td>0.0</td>\n",
       "    </tr>\n",
       "    <tr>\n",
       "      <th>2020-01-25</th>\n",
       "      <td>0.0</td>\n",
       "    </tr>\n",
       "  </tbody>\n",
       "</table>\n",
       "</div>"
      ],
      "text/plain": [
       "            cases\n",
       "date             \n",
       "2020-01-21    NaN\n",
       "2020-01-22    0.0\n",
       "2020-01-23    0.0\n",
       "2020-01-24    0.0\n",
       "2020-01-25    0.0"
      ]
     },
     "execution_count": 30,
     "metadata": {},
     "output_type": "execute_result"
    }
   ],
   "source": [
    "df.head()"
   ]
  },
  {
   "cell_type": "markdown",
   "metadata": {},
   "source": [
    "### Applying Dickey Fuller test again"
   ]
  },
  {
   "cell_type": "code",
   "execution_count": 31,
   "metadata": {},
   "outputs": [
    {
     "name": "stdout",
     "output_type": "stream",
     "text": [
      "ADF Test Statistic : 1.625788391380594\n",
      "p-value : 0.9979329176472894\n",
      "#Lags Used : 14\n",
      "Number of Observations Used : 129\n",
      "weak evidence against null hypothesis, time series has a unit root, indicating it is non-stationary \n"
     ]
    }
   ],
   "source": [
    "\n",
    "## Again test dickey fuller test\n",
    "adfuller_test(df['cases'].dropna())"
   ]
  },
  {
   "cell_type": "code",
   "execution_count": 37,
   "metadata": {},
   "outputs": [],
   "source": [
    "df['cases'] = df['cases'] - df['cases'].shift(31)\n"
   ]
  },
  {
   "cell_type": "markdown",
   "metadata": {},
   "source": [
    "### Applying Dickey Fuller test again"
   ]
  },
  {
   "cell_type": "code",
   "execution_count": 39,
   "metadata": {},
   "outputs": [
    {
     "name": "stdout",
     "output_type": "stream",
     "text": [
      "ADF Test Statistic : -8.250637416408178\n",
      "p-value : 5.40292192310681e-13\n",
      "#Lags Used : 0\n",
      "Number of Observations Used : 82\n",
      "strong evidence against the null hypothesis(Ho), reject the null hypothesis. Data has no unit root and is stationary\n"
     ]
    }
   ],
   "source": [
    "\n",
    "## Again test dickey fuller test\n",
    "adfuller_test(df['cases'].dropna())"
   ]
  },
  {
   "cell_type": "markdown",
   "metadata": {},
   "source": [
    "# ACF and PACF\n",
    "\n",
    "ARIMA Model has three parameters p, d, q  where p represent AR, d represents defferencing and q represents Moving average\n",
    "\n",
    "And Indentification of AR model is done with PACF , Indentification of MA model is done with ACF"
   ]
  },
  {
   "cell_type": "code",
   "execution_count": 40,
   "metadata": {},
   "outputs": [],
   "source": [
    "from statsmodels.graphics.tsaplots import plot_acf,plot_pacf\n",
    "import statsmodels.api as sm"
   ]
  },
  {
   "cell_type": "code",
   "execution_count": 42,
   "metadata": {},
   "outputs": [
    {
     "data": {
      "image/png": "[encoded data removed]",
      "text/plain": [
       "<Figure size 864x576 with 2 Axes>"
      ]
     },
     "metadata": {},
     "output_type": "display_data"
    }
   ],
   "source": [
    "fig = plt.figure(figsize=(12,8))\n",
    "ax1 = fig.add_subplot(211)\n",
    "fig = sm.graphics.tsa.plot_acf(df['cases'].dropna(),lags=40,ax=ax1) #Using 13 because first 12 values are NA values\n",
    "ax2 = fig.add_subplot(212)\n",
    "fig = sm.graphics.tsa.plot_pacf(df['cases'].dropna(),lags=40,ax=ax2)"
   ]
  },
  {
   "cell_type": "raw",
   "metadata": {},
   "source": [
    "ACF and PACF result analysis\n",
    "\n",
    "P=1,2  Q=0,1 , d= 0,1,2 is usually between zero to 2 hence will experiment with values between zero to 2 -"
   ]
  },
  {
   "cell_type": "code",
   "execution_count": 43,
   "metadata": {},
   "outputs": [],
   "source": [
    "New_Time=train.dropna()"
   ]
  },
  {
   "cell_type": "code",
   "execution_count": 44,
   "metadata": {},
   "outputs": [
    {
     "data": {
      "text/html": [
       "<div>\n",
       "<style scoped>\n",
       "    .dataframe tbody tr th:only-of-type {\n",
       "        vertical-align: middle;\n",
       "    }\n",
       "\n",
       "    .dataframe tbody tr th {\n",
       "        vertical-align: top;\n",
       "    }\n",
       "\n",
       "    .dataframe thead th {\n",
       "        text-align: right;\n",
       "    }\n",
       "</style>\n",
       "<table border=\"1\" class=\"dataframe\">\n",
       "  <thead>\n",
       "    <tr style=\"text-align: right;\">\n",
       "      <th></th>\n",
       "      <th>cases</th>\n",
       "    </tr>\n",
       "    <tr>\n",
       "      <th>date</th>\n",
       "      <th></th>\n",
       "    </tr>\n",
       "  </thead>\n",
       "  <tbody>\n",
       "    <tr>\n",
       "      <th>2020-01-21</th>\n",
       "      <td>1</td>\n",
       "    </tr>\n",
       "    <tr>\n",
       "      <th>2020-01-22</th>\n",
       "      <td>1</td>\n",
       "    </tr>\n",
       "    <tr>\n",
       "      <th>2020-01-23</th>\n",
       "      <td>1</td>\n",
       "    </tr>\n",
       "    <tr>\n",
       "      <th>2020-01-24</th>\n",
       "      <td>1</td>\n",
       "    </tr>\n",
       "    <tr>\n",
       "      <th>2020-01-25</th>\n",
       "      <td>1</td>\n",
       "    </tr>\n",
       "  </tbody>\n",
       "</table>\n",
       "</div>"
      ],
      "text/plain": [
       "            cases\n",
       "date             \n",
       "2020-01-21      1\n",
       "2020-01-22      1\n",
       "2020-01-23      1\n",
       "2020-01-24      1\n",
       "2020-01-25      1"
      ]
     },
     "execution_count": 44,
     "metadata": {},
     "output_type": "execute_result"
    }
   ],
   "source": [
    "New_Time.head()"
   ]
  },
  {
   "cell_type": "code",
   "execution_count": 45,
   "metadata": {},
   "outputs": [
    {
     "data": {
      "text/plain": [
       "(100, 1)"
      ]
     },
     "execution_count": 45,
     "metadata": {},
     "output_type": "execute_result"
    }
   ],
   "source": [
    "New_Time.shape"
   ]
  },
  {
   "cell_type": "code",
   "execution_count": 46,
   "metadata": {},
   "outputs": [
    {
     "data": {
      "text/plain": [
       "(45, 1)"
      ]
     },
     "execution_count": 46,
     "metadata": {},
     "output_type": "execute_result"
    }
   ],
   "source": [
    "test.shape"
   ]
  },
  {
   "cell_type": "code",
   "execution_count": 47,
   "metadata": {},
   "outputs": [],
   "source": [
    "new_Time_Test = test.dropna()"
   ]
  },
  {
   "cell_type": "code",
   "execution_count": 48,
   "metadata": {},
   "outputs": [
    {
     "data": {
      "text/plain": [
       "(45, 1)"
      ]
     },
     "execution_count": 48,
     "metadata": {},
     "output_type": "execute_result"
    }
   ],
   "source": [
    "new_Time_Test.shape"
   ]
  },
  {
   "cell_type": "code",
   "execution_count": 49,
   "metadata": {},
   "outputs": [],
   "source": [
    "from statsmodels.tsa.arima_model import ARIMA"
   ]
  },
  {
   "cell_type": "code",
   "execution_count": 69,
   "metadata": {},
   "outputs": [],
   "source": [
    "ARIMA_MODEL = ARIMA(New_Time, order = (2,2,2))"
   ]
  },
  {
   "cell_type": "code",
   "execution_count": 70,
   "metadata": {},
   "outputs": [],
   "source": [
    "ARIMA_MODEL_Fit = ARIMA_MODEL.fit()"
   ]
  },
  {
   "cell_type": "code",
   "execution_count": 71,
   "metadata": {},
   "outputs": [
    {
     "data": {
      "text/html": [
       "<table class=\"simpletable\">\n",
       "<caption>ARIMA Model Results</caption>\n",
       "<tr>\n",
       "  <th>Dep. Variable:</th>     <td>D2.cases</td>     <th>  No. Observations:  </th>    <td>98</td>   \n",
       "</tr>\n",
       "<tr>\n",
       "  <th>Model:</th>          <td>ARIMA(2, 2, 2)</td>  <th>  Log Likelihood     </th> <td>-132.042</td>\n",
       "</tr>\n",
       "<tr>\n",
       "  <th>Method:</th>             <td>css-mle</td>     <th>  S.D. of innovations</th>   <td>0.920</td> \n",
       "</tr>\n",
       "<tr>\n",
       "  <th>Date:</th>          <td>Wed, 17 Jun 2020</td> <th>  AIC                </th>  <td>276.085</td>\n",
       "</tr>\n",
       "<tr>\n",
       "  <th>Time:</th>              <td>03:33:13</td>     <th>  BIC                </th>  <td>291.595</td>\n",
       "</tr>\n",
       "<tr>\n",
       "  <th>Sample:</th>           <td>01-23-2020</td>    <th>  HQIC               </th>  <td>282.358</td>\n",
       "</tr>\n",
       "<tr>\n",
       "  <th></th>                 <td>- 04-29-2020</td>   <th>                     </th>     <td> </td>   \n",
       "</tr>\n",
       "</table>\n",
       "<table class=\"simpletable\">\n",
       "<tr>\n",
       "         <td></td>           <th>coef</th>     <th>std err</th>      <th>z</th>      <th>P>|z|</th>  <th>[0.025</th>    <th>0.975]</th>  \n",
       "</tr>\n",
       "<tr>\n",
       "  <th>const</th>          <td>    0.0171</td> <td>    0.007</td> <td>    2.489</td> <td> 0.013</td> <td>    0.004</td> <td>    0.030</td>\n",
       "</tr>\n",
       "<tr>\n",
       "  <th>ar.L1.D2.cases</th> <td>   -0.8750</td> <td>    0.406</td> <td>   -2.153</td> <td> 0.031</td> <td>   -1.672</td> <td>   -0.078</td>\n",
       "</tr>\n",
       "<tr>\n",
       "  <th>ar.L2.D2.cases</th> <td>   -0.1965</td> <td>    0.132</td> <td>   -1.492</td> <td> 0.136</td> <td>   -0.455</td> <td>    0.062</td>\n",
       "</tr>\n",
       "<tr>\n",
       "  <th>ma.L1.D2.cases</th> <td>   -0.3012</td> <td>    0.400</td> <td>   -0.753</td> <td> 0.451</td> <td>   -1.085</td> <td>    0.483</td>\n",
       "</tr>\n",
       "<tr>\n",
       "  <th>ma.L2.D2.cases</th> <td>   -0.5648</td> <td>    0.369</td> <td>   -1.529</td> <td> 0.126</td> <td>   -1.289</td> <td>    0.159</td>\n",
       "</tr>\n",
       "</table>\n",
       "<table class=\"simpletable\">\n",
       "<caption>Roots</caption>\n",
       "<tr>\n",
       "    <td></td>   <th>            Real</th>  <th>         Imaginary</th> <th>         Modulus</th>  <th>        Frequency</th>\n",
       "</tr>\n",
       "<tr>\n",
       "  <th>AR.1</th> <td>          -2.2267</td> <td>          -0.3623j</td> <td>           2.2560</td> <td>          -0.4743</td>\n",
       "</tr>\n",
       "<tr>\n",
       "  <th>AR.2</th> <td>          -2.2267</td> <td>          +0.3623j</td> <td>           2.2560</td> <td>           0.4743</td>\n",
       "</tr>\n",
       "<tr>\n",
       "  <th>MA.1</th> <td>           1.0904</td> <td>          +0.0000j</td> <td>           1.0904</td> <td>           0.0000</td>\n",
       "</tr>\n",
       "<tr>\n",
       "  <th>MA.2</th> <td>          -1.6237</td> <td>          +0.0000j</td> <td>           1.6237</td> <td>           0.5000</td>\n",
       "</tr>\n",
       "</table>"
      ],
      "text/plain": [
       "<class 'statsmodels.iolib.summary.Summary'>\n",
       "\"\"\"\n",
       "                             ARIMA Model Results                              \n",
       "==============================================================================\n",
       "Dep. Variable:               D2.cases   No. Observations:                   98\n",
       "Model:                 ARIMA(2, 2, 2)   Log Likelihood                -132.042\n",
       "Method:                       css-mle   S.D. of innovations              0.920\n",
       "Date:                Wed, 17 Jun 2020   AIC                            276.085\n",
       "Time:                        03:33:13   BIC                            291.595\n",
       "Sample:                    01-23-2020   HQIC                           282.358\n",
       "                         - 04-29-2020                                         \n",
       "==================================================================================\n",
       "                     coef    std err          z      P>|z|      [0.025      0.975]\n",
       "----------------------------------------------------------------------------------\n",
       "const              0.0171      0.007      2.489      0.013       0.004       0.030\n",
       "ar.L1.D2.cases    -0.8750      0.406     -2.153      0.031      -1.672      -0.078\n",
       "ar.L2.D2.cases    -0.1965      0.132     -1.492      0.136      -0.455       0.062\n",
       "ma.L1.D2.cases    -0.3012      0.400     -0.753      0.451      -1.085       0.483\n",
       "ma.L2.D2.cases    -0.5648      0.369     -1.529      0.126      -1.289       0.159\n",
       "                                    Roots                                    \n",
       "=============================================================================\n",
       "                  Real          Imaginary           Modulus         Frequency\n",
       "-----------------------------------------------------------------------------\n",
       "AR.1           -2.2267           -0.3623j            2.2560           -0.4743\n",
       "AR.2           -2.2267           +0.3623j            2.2560            0.4743\n",
       "MA.1            1.0904           +0.0000j            1.0904            0.0000\n",
       "MA.2           -1.6237           +0.0000j            1.6237            0.5000\n",
       "-----------------------------------------------------------------------------\n",
       "\"\"\""
      ]
     },
     "execution_count": 71,
     "metadata": {},
     "output_type": "execute_result"
    }
   ],
   "source": [
    "ARIMA_MODEL_Fit.summary()"
   ]
  },
  {
   "cell_type": "code",
   "execution_count": 72,
   "metadata": {},
   "outputs": [],
   "source": [
    "Arima_Forecast = ARIMA_MODEL_Fit.forecast(steps = 45)[0]"
   ]
  },
  {
   "cell_type": "code",
   "execution_count": 73,
   "metadata": {},
   "outputs": [
    {
     "data": {
      "text/plain": [
       "array([ 44.146993  ,  45.67959665,  47.27419849,  48.77411221,\n",
       "        50.3800281 ,  51.947123  ,  53.56268858,  55.17879779,\n",
       "        56.82023661,  58.47473357,  60.14815647,  61.837782  ,\n",
       "        63.54484018,  65.2687898 ,  67.00986276,  68.76796248,\n",
       "        70.5431279 ,  72.33534393,  74.14461611,  75.97094257,\n",
       "        77.81432385,  79.67475985,  81.55225055,  83.44679599,\n",
       "        85.35839613,  87.287051  ,  89.23276059,  91.1955249 ,\n",
       "        93.17534393,  95.17221768,  97.18614614,  99.21712933,\n",
       "       101.26516724, 103.33025986, 105.41240721, 107.51160928,\n",
       "       109.62786606, 111.76117757, 113.91154379, 116.07896474,\n",
       "       118.2634404 , 120.46497079, 122.68355589, 124.91919571,\n",
       "       127.17189026])"
      ]
     },
     "execution_count": 73,
     "metadata": {},
     "output_type": "execute_result"
    }
   ],
   "source": [
    "Arima_Forecast"
   ]
  },
  {
   "cell_type": "code",
   "execution_count": 74,
   "metadata": {},
   "outputs": [
    {
     "data": {
      "text/plain": [
       "100.93484082262259"
      ]
     },
     "execution_count": 74,
     "metadata": {},
     "output_type": "execute_result"
    }
   ],
   "source": [
    "np.sqrt(mean_squared_error(new_Time_Test,Arima_Forecast))"
   ]
  },
  {
   "cell_type": "markdown",
   "metadata": {},
   "source": [
    "### SARIMA model"
   ]
  },
  {
   "cell_type": "code",
   "execution_count": 77,
   "metadata": {},
   "outputs": [
    {
     "name": "stdout",
     "output_type": "stream",
     "text": [
      "                                     SARIMAX Results                                      \n",
      "==========================================================================================\n",
      "Dep. Variable:                              cases   No. Observations:                  100\n",
      "Model:             SARIMAX(2, 2, 2)x(2, 2, 2, 20)   Log Likelihood                -103.128\n",
      "Date:                            Wed, 17 Jun 2020   AIC                            224.256\n",
      "Time:                                    03:35:31   BIC                            242.800\n",
      "Sample:                                01-21-2020   HQIC                           231.479\n",
      "                                     - 04-29-2020                                         \n",
      "Covariance Type:                              opg                                         \n",
      "==============================================================================\n",
      "                 coef    std err          z      P>|z|      [0.025      0.975]\n",
      "------------------------------------------------------------------------------\n",
      "ar.L1         -1.2592      3.008     -0.419      0.676      -7.156       4.637\n",
      "ar.L2         -0.3046      1.182     -0.258      0.797      -2.621       2.012\n",
      "ma.L1         -0.1021     11.220     -0.009      0.993     -22.093      21.889\n",
      "ma.L2         -0.8960      9.518     -0.094      0.925     -19.551      17.759\n",
      "ar.S.L20      -0.4822    238.914     -0.002      0.998    -468.744     467.780\n",
      "ar.S.L40      -0.4041     18.979     -0.021      0.983     -37.602      36.794\n",
      "ma.S.L20      -1.5670   1646.720     -0.001      0.999   -3229.080    3225.946\n",
      "ma.S.L40       0.8090    433.022      0.002      0.999    -847.898     849.516\n",
      "sigma2         0.4180    745.724      0.001      1.000   -1461.175    1462.011\n",
      "===================================================================================\n",
      "Ljung-Box (Q):                       27.51   Jarque-Bera (JB):                12.08\n",
      "Prob(Q):                              0.93   Prob(JB):                         0.00\n",
      "Heteroskedasticity (H):              12.71   Skew:                             0.54\n",
      "Prob(H) (two-sided):                  0.00   Kurtosis:                         4.96\n",
      "===================================================================================\n",
      "\n",
      "Warnings:\n",
      "[1] Covariance matrix calculated using the outer product of gradients (complex-step).\n"
     ]
    }
   ],
   "source": [
    "model_S = sm.tsa.SARIMAX(New_Time, order=(2,2,2), seasonal_order=(2,2,2,20))\n",
    "model_fit=model_S.fit(disp=True)\n",
    "print(model_fit.summary())\n"
   ]
  },
  {
   "cell_type": "code",
   "execution_count": 78,
   "metadata": {},
   "outputs": [
    {
     "name": "stdout",
     "output_type": "stream",
     "text": [
      "2020-04-30     44.778318\n",
      "2020-05-01     46.684517\n",
      "2020-05-02     49.105312\n",
      "2020-05-03     48.836035\n",
      "2020-05-04     54.077361\n",
      "2020-05-05     57.463835\n",
      "2020-05-06     58.619518\n",
      "2020-05-07     60.198846\n",
      "2020-05-08     60.808279\n",
      "2020-05-09     63.570375\n",
      "2020-05-10     65.806850\n",
      "2020-05-11     68.745420\n",
      "2020-05-12     70.967374\n",
      "2020-05-13     73.833730\n",
      "2020-05-14     76.593323\n",
      "2020-05-15     78.186706\n",
      "2020-05-16     79.324526\n",
      "2020-05-17     81.458182\n",
      "2020-05-18     83.138847\n",
      "2020-05-19     89.540816\n",
      "2020-05-20     91.675383\n",
      "2020-05-21     94.919734\n",
      "2020-05-22     98.138565\n",
      "2020-05-23     98.034386\n",
      "2020-05-24    105.798000\n",
      "2020-05-25    111.073552\n",
      "2020-05-26    113.012429\n",
      "2020-05-27    115.605342\n",
      "2020-05-28    116.825190\n",
      "2020-05-29    121.121187\n",
      "2020-05-30    124.044062\n",
      "2020-05-31    129.767895\n",
      "2020-06-01    133.135260\n",
      "2020-06-02    137.701054\n",
      "2020-06-03    141.784675\n",
      "2020-06-04    144.381628\n",
      "2020-06-05    146.315528\n",
      "2020-06-06    149.627813\n",
      "2020-06-07    152.282264\n",
      "2020-06-08    161.493927\n",
      "2020-06-09    164.738140\n",
      "2020-06-10    169.845432\n",
      "2020-06-11    173.791761\n",
      "2020-06-12    175.014985\n",
      "2020-06-13    185.085601\n",
      "Freq: D, dtype: float64\n"
     ]
    }
   ],
   "source": [
    "forecast = model_fit.forecast(steps=45)\n",
    "print(forecast)"
   ]
  },
  {
   "cell_type": "code",
   "execution_count": 80,
   "metadata": {},
   "outputs": [],
   "source": [
    "SARIMA_RMSE = np.sqrt(mean_squared_error(new_Time_Test,forecast))"
   ]
  },
  {
   "cell_type": "code",
   "execution_count": 81,
   "metadata": {},
   "outputs": [
    {
     "name": "stdout",
     "output_type": "stream",
     "text": [
      "74.78666402733856\n"
     ]
    }
   ],
   "source": [
    "print(SARIMA_RMSE)"
   ]
  },
  {
   "cell_type": "markdown",
   "metadata": {},
   "source": [
    "## Models Result as per their RMSE scores"
   ]
  },
  {
   "cell_type": "raw",
   "metadata": {},
   "source": [
    "ARIMA  = 100.93484082262259\n",
    "SARIMA = 74.78666402733856\n",
    "Double Exponential smoothing technique (Holt's trend) = 109.62241907072666\n",
    "Triple Exponential smoothing technique (Holt's winter smoothing) = 109.88472929966045"
   ]
  },
  {
   "cell_type": "code",
   "execution_count": null,
   "metadata": {},
   "outputs": [],
   "source": []
  }
 ],
 "metadata": {
  "kernelspec": {
   "display_name": "Python 3",
   "language": "python",
   "name": "python3"
  },
  "language_info": {
   "codemirror_mode": {
    "name": "ipython",
    "version": 3
   },
   "file_extension": ".py",
   "mimetype": "text/x-python",
   "name": "python",
   "nbconvert_exporter": "python",
   "pygments_lexer": "ipython3",
   "version": "3.7.7"
  }
 },
 "nbformat": 4,
 "nbformat_minor": 4
}
